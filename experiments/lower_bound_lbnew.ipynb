{
 "cells": [
  {
   "cell_type": "markdown",
   "id": "7e55ff8c-0064-4470-abb0-6e58a77d976d",
   "metadata": {},
   "source": [
    "# LOWER BOUND (LB-NEW1)"
   ]
  },
  {
   "cell_type": "markdown",
   "id": "381ee491-5f0b-4550-8a6f-b7a439939748",
   "metadata": {
    "jp-MarkdownHeadingCollapsed": true
   },
   "source": [
    "## PREPARING THE ENVIRONMENT"
   ]
  },
  {
   "cell_type": "markdown",
   "id": "230b3048-4e26-4fa0-94d5-adff4f8ea2ba",
   "metadata": {},
   "source": [
    "Installing the relevant libraries:"
   ]
  },
  {
   "cell_type": "code",
   "execution_count": 1,
   "id": "b7c92a10-d1c2-4962-8cae-0b0d6dbe0a74",
   "metadata": {},
   "outputs": [],
   "source": [
    "import os\n",
    "import mip\n",
    "import numpy as np\n",
    "import pandas as pd\n",
    "\n",
    "from collections import defaultdict"
   ]
  },
  {
   "cell_type": "markdown",
   "id": "b2bd3441-5c4d-49df-815c-53b83bfc666b",
   "metadata": {},
   "source": [
    "Defining the constants:"
   ]
  },
  {
   "cell_type": "code",
   "execution_count": 2,
   "id": "5bee62dc-cab7-4e94-8c23-44e975197dac",
   "metadata": {},
   "outputs": [],
   "source": [
    "BIN_SIZE = [100,\n",
    "            120,\n",
    "            150]\n",
    "\n",
    "MAX_COST = BIN_SIZE[-1]"
   ]
  },
  {
   "cell_type": "markdown",
   "id": "e052a2c5-b95e-4dd9-9a63-35d25b69769d",
   "metadata": {},
   "source": [
    "Defining classes and functions:"
   ]
  },
  {
   "cell_type": "code",
   "execution_count": 3,
   "id": "f74832ea-2f84-4627-8b2c-108b23ed2a67",
   "metadata": {},
   "outputs": [],
   "source": [
    "class Instance:\n",
    "    def __init__(self, filename):\n",
    "        self.n = None\n",
    "        self.v = None\n",
    "        self.G = None\n",
    "\n",
    "        with open(filename, 'r') as file:\n",
    "            self.n = int(file.readline().strip())\n",
    "            self.v = np.zeros(self.n, dtype=int)\n",
    "            self.G = np.zeros((self.n, self.n), dtype=int)\n",
    "\n",
    "            for line in file:\n",
    "                tokens = list(map(int, line.split()))\n",
    "                if not tokens:\n",
    "                    continue\n",
    "\n",
    "                v1 = tokens[0]\n",
    "                self.v[v1] = tokens[1]\n",
    "\n",
    "                for v2 in tokens[2:]:\n",
    "                    self.G[v1][v2] = 1\n",
    "                    self.G[v2][v1] = 1\n",
    "\n",
    "        for v1 in range(self.n - 1):\n",
    "            for v2 in range(v1 + 1, self.n):\n",
    "                if self.v[v1] + self.v[v2] > MAX_COST:\n",
    "                    self.G[v1][v2] = 1\n",
    "                    self.G[v2][v1] = 1\n",
    "\n",
    "    def __getitem__(self, i):\n",
    "        return self.v[i]\n",
    "\n",
    "    def describe(self):\n",
    "        print(f'Number of items = {self.n}')\n",
    "\n",
    "        print('v =')\n",
    "        print(self.v)\n",
    "        print('G =')\n",
    "        print(self.G)"
   ]
  },
  {
   "cell_type": "markdown",
   "id": "a5064299-8ddc-4cca-a288-c99d2e42ba16",
   "metadata": {},
   "source": [
    "Reading an instance:"
   ]
  },
  {
   "cell_type": "code",
   "execution_count": 4,
   "id": "82f13a64-f19d-4d86-b851-81a188908606",
   "metadata": {},
   "outputs": [
    {
     "name": "stdout",
     "output_type": "stream",
     "text": [
      "Number of items = 100\n",
      "v =\n",
      "[ 81  82  67  64  90  56  56 100  85  72  57  73  99  67  57  75  53  65\n",
      "  50  62 100  78  80  97 100  96  73  75  51  92  86  79  93  91  50  59\n",
      "  91  83  97  59  51  77  93  68  56  74  78  54  53  67  78  54  73  85\n",
      "  79  82  91  84  97  91  92  71  78  76  90  52  52  70  80  85  88  82\n",
      "  83  87  65  89  75  78  62  74  88  54  84  62  94  76  60  64  94  63\n",
      "  56  68  90  88  69  89 100  95  51  76]\n",
      "G =\n",
      "[[0 1 1 ... 1 0 1]\n",
      " [1 0 1 ... 1 1 1]\n",
      " [1 1 0 ... 1 0 1]\n",
      " ...\n",
      " [1 1 1 ... 0 1 1]\n",
      " [0 1 0 ... 1 0 1]\n",
      " [1 1 1 ... 1 1 0]]\n"
     ]
    }
   ],
   "source": [
    "filename = '../instances/train/Correia_Random_1_3_6_4.txt'\n",
    "\n",
    "instance = Instance(filename)\n",
    "\n",
    "instance.describe()"
   ]
  },
  {
   "cell_type": "markdown",
   "id": "76a10945-bf83-4c09-8ef9-af03676d7ce6",
   "metadata": {},
   "source": [
    "Loading heuristic upper bounds:"
   ]
  },
  {
   "cell_type": "code",
   "execution_count": 5,
   "id": "87af1f39-bc4e-4372-bbcc-77d0aa33c2ee",
   "metadata": {},
   "outputs": [],
   "source": [
    "data_train = pd.read_csv('../out/results_train_final.txt', sep='\\s+')\n",
    "data_test  = pd.read_csv('../out/results_test_final.txt' , sep='\\s+')\n",
    "\n",
    "data = pd.concat([data_train, data_test])\n",
    "\n",
    "instance2heuristic = dict(zip(data['instance'], data['obj_lnsa']))"
   ]
  },
  {
   "cell_type": "markdown",
   "id": "b1ec31fe-e49d-4777-a8c0-58769bf3c70f",
   "metadata": {
    "jp-MarkdownHeadingCollapsed": true
   },
   "source": [
    "## GETTING A MAXIMUM CLIQUE"
   ]
  },
  {
   "cell_type": "markdown",
   "id": "c09c6594-d91e-4ee2-b970-f542869c028f",
   "metadata": {},
   "source": [
    "Defining a function to obtain a maximal clique using the algorithm described by Johnson:"
   ]
  },
  {
   "cell_type": "code",
   "execution_count": 6,
   "id": "e97e66fe-825f-488d-baf1-9c6142c6cf89",
   "metadata": {},
   "outputs": [],
   "source": [
    "def johnson_maximal_clique(instance):\n",
    "    S = set()\n",
    "    R = set(range(instance.n))\n",
    "\n",
    "    while R:\n",
    "        y = max(R, key=lambda v: sum(instance.G[v][w] for w in R))\n",
    "\n",
    "        S.add(y)\n",
    "        R = {w for w in R if instance.G[y][w] == 1}\n",
    "\n",
    "    return S\n",
    "\n",
    "def verify_maximal_clique(clique):\n",
    "    for v in clique:\n",
    "        for w in clique:\n",
    "            if v != w and not instance.G[v][w]:\n",
    "                return False\n",
    "\n",
    "    return True"
   ]
  },
  {
   "cell_type": "markdown",
   "id": "ff3a4f96-ace1-471f-ae91-155537848350",
   "metadata": {},
   "source": [
    "Getting a maximum clique:"
   ]
  },
  {
   "cell_type": "code",
   "execution_count": 7,
   "id": "fe4a42ea-1a63-409e-a2bd-4faa68254e9a",
   "metadata": {},
   "outputs": [
    {
     "name": "stdout",
     "output_type": "stream",
     "text": [
      "Maximum clique = {0, 1, 4, 7, 8, 12, 15, 20, 21, 22, 23, 24, 25, 26, 27, 29, 30, 31, 32, 33, 36, 37, 38, 41, 42, 46, 50, 53, 54, 55, 56, 57, 58, 59, 60, 62, 63, 64, 68, 69, 70, 71, 72, 73, 75, 76, 77, 80, 82, 84, 85, 88, 92, 93, 95, 96, 97, 99}\n"
     ]
    }
   ],
   "source": [
    "clique = johnson_maximal_clique(instance)\n",
    "\n",
    "print('Maximum clique =', clique)"
   ]
  },
  {
   "cell_type": "markdown",
   "id": "67724e44-8fa1-47b4-b742-3d1fec0f7912",
   "metadata": {},
   "source": [
    "Checking for maximal clique:"
   ]
  },
  {
   "cell_type": "code",
   "execution_count": 8,
   "id": "a5997689-aeaf-4485-9da8-7119d54eb0cb",
   "metadata": {},
   "outputs": [
    {
     "name": "stdout",
     "output_type": "stream",
     "text": [
      "The maximum clique obtained is valid.\n"
     ]
    }
   ],
   "source": [
    "if verify_maximal_clique(clique):\n",
    "    print('The maximum clique obtained is valid.')\n",
    "else:\n",
    "    print('The maximum clique obtained is not valid.')"
   ]
  },
  {
   "cell_type": "markdown",
   "id": "b6433b0a-ccfd-4a5b-b5cd-ee8441358c06",
   "metadata": {
    "jp-MarkdownHeadingCollapsed": true
   },
   "source": [
    "## LOWER BOUND"
   ]
  },
  {
   "cell_type": "markdown",
   "id": "aa58a7ef-191b-42e2-92b7-4e1a4fc89552",
   "metadata": {},
   "source": [
    "Getting relevant information for models:"
   ]
  },
  {
   "cell_type": "code",
   "execution_count": 9,
   "id": "367778f4-7301-48e8-b2c0-80a80a64f042",
   "metadata": {},
   "outputs": [],
   "source": [
    "def get_params(instance, clique, bins):\n",
    "    n = instance.n\n",
    "    V = instance.v\n",
    "    G = instance.G\n",
    "\n",
    "    B  = list(range(len(bins)))\n",
    "    Bi = {\n",
    "        i : list(k for k in B if V[i] <= bins[k])\n",
    "        for i in clique\n",
    "    }\n",
    "\n",
    "    Vc  = clique\n",
    "    Vc_ = set(range(n)) - clique\n",
    "    Vi  = {\n",
    "        i : list(j for j in Vc_ if G[i][j] == 0)\n",
    "        for i in Vc\n",
    "    }\n",
    "\n",
    "    return n, V, G, B, Bi, Vc, Vc_, Vi\n",
    "\n",
    "\n",
    "n, V, G, B, Bi, Vc, Vc_, Vi = get_params(instance, clique, BIN_SIZE)"
   ]
  },
  {
   "cell_type": "markdown",
   "id": "c72b54e4-8d48-45fd-9b0e-04883d81f70c",
   "metadata": {
    "jp-MarkdownHeadingCollapsed": true
   },
   "source": [
    "### CALCULATING IP-U(k)"
   ]
  },
  {
   "cell_type": "markdown",
   "id": "e588606b-9d73-46b0-83ef-4fdf423365e4",
   "metadata": {},
   "source": [
    "Defining a function to calculate IP-U(k):"
   ]
  },
  {
   "cell_type": "code",
   "execution_count": 10,
   "id": "c6575854-22f2-4932-8e24-1ac68f9ea973",
   "metadata": {},
   "outputs": [],
   "source": [
    "def ip_uk(instance, clique_comp, Wk):\n",
    "    n = instance.n\n",
    "    V = instance.v\n",
    "    G = instance.G\n",
    "\n",
    "    model = mip.Model(sense=mip.MAXIMIZE)\n",
    "    model.verbose = 0\n",
    "\n",
    "    x = {i: model.add_var(var_type=mip.BINARY) for i in clique_comp}\n",
    "\n",
    "    model.objective = mip.xsum(V[i] * x[i] for i in x)\n",
    "\n",
    "    model += mip.xsum(V[i] * x[i] for i in x) <= Wk\n",
    "    for i1 in x:\n",
    "        for i2 in x:\n",
    "            if i1 != i2 and G[i1][i2]:\n",
    "                model += x[i1] + x[i2] <= 1\n",
    "\n",
    "    status = model.optimize()\n",
    "    obj    = model.objective_value\n",
    "\n",
    "    return status, int(obj)"
   ]
  },
  {
   "cell_type": "markdown",
   "id": "50e9bc02-3a16-46a8-948c-f1ff87d26af5",
   "metadata": {},
   "source": [
    "Calculating the effective space for each bin type:"
   ]
  },
  {
   "cell_type": "code",
   "execution_count": 11,
   "id": "fcd827cb-ff5f-4608-868e-da14b5856ccb",
   "metadata": {},
   "outputs": [
    {
     "name": "stdout",
     "output_type": "stream",
     "text": [
      "Bin of type 0 = 74\n",
      "Bin of type 1 = 120\n",
      "Bin of type 2 = 148\n"
     ]
    }
   ],
   "source": [
    "IPU = [0 for _ in B]\n",
    "\n",
    "for k in B:\n",
    "    status, obj = ip_uk(instance, Vc_, BIN_SIZE[k])\n",
    "\n",
    "    if status == mip.OptimizationStatus.OPTIMAL:\n",
    "        IPU[k] = obj\n",
    "    else:\n",
    "        print(f'Infeasibility in type bin {k}!')\n",
    "\n",
    "for k, ipuk in enumerate(IPU):\n",
    "    print(f'Bin of type {k} =', ipuk)"
   ]
  },
  {
   "cell_type": "markdown",
   "id": "6664a351-2887-4409-929b-84dced83967e",
   "metadata": {
    "jp-MarkdownHeadingCollapsed": true
   },
   "source": [
    "### CALCULATING IP-U(i, k)"
   ]
  },
  {
   "cell_type": "markdown",
   "id": "1a4748dd-2fcb-48fd-a8ad-df824c315c4c",
   "metadata": {},
   "source": [
    "Defining a function to calculate IP-U(i, k):"
   ]
  },
  {
   "cell_type": "code",
   "execution_count": 12,
   "id": "cbf5d6a2-268a-4b9f-9885-5b85af2e2657",
   "metadata": {},
   "outputs": [],
   "source": [
    "def ip_uik(instance, vi, i, Wk):\n",
    "    n = instance.n\n",
    "    V = instance.v\n",
    "    G = instance.G\n",
    "\n",
    "    model = mip.Model(sense=mip.MAXIMIZE)\n",
    "    model.verbose = 0\n",
    "\n",
    "    x = {j: model.add_var(var_type=mip.BINARY) for j in vi}\n",
    "\n",
    "    model.objective = mip.xsum(V[j] * x[j] for j in x)\n",
    "\n",
    "    model += mip.xsum(V[j] * x[j] for j in x) <= Wk - V[i]\n",
    "    for j1 in x:\n",
    "        for j2 in x:\n",
    "            if j1 != j2 and G[j1][j2]:\n",
    "                model += x[j1] + x[j2] <= 1\n",
    "\n",
    "    status = model.optimize()\n",
    "    obj    = model.objective_value\n",
    "\n",
    "    return status, int(obj)"
   ]
  },
  {
   "cell_type": "markdown",
   "id": "2e8a0db0-a7e2-4f2a-a0c1-fa17200aff0d",
   "metadata": {},
   "source": [
    "Calculating the effective space for each pair of item in the clique and bin type:"
   ]
  },
  {
   "cell_type": "code",
   "execution_count": 13,
   "id": "58377341-0ac6-4aa9-a074-c8c8c0451eb3",
   "metadata": {},
   "outputs": [
    {
     "name": "stdout",
     "output_type": "stream",
     "text": [
      "Item 0 and type bin 0 = 0\n",
      "Item 0 and type bin 2 = 69\n",
      "Item 1 and type bin 0 = 0\n",
      "Item 1 and type bin 2 = 68\n",
      "Item 4 and type bin 0 = 0\n",
      "Item 4 and type bin 2 = 59\n",
      "Item 7 and type bin 0 = 0\n",
      "Item 7 and type bin 2 = 50\n",
      "Item 8 and type bin 0 = 0\n",
      "Item 8 and type bin 2 = 65\n"
     ]
    }
   ],
   "source": [
    "R = []\n",
    "W = defaultdict(dict)\n",
    "\n",
    "for i in Vc:\n",
    "    vi = Vi[i]\n",
    "\n",
    "    if vi:\n",
    "        for k in Bi[i]:\n",
    "            status, obj = ip_uik(instance, vi, i, BIN_SIZE[k])\n",
    "\n",
    "            if status == mip.OptimizationStatus.OPTIMAL:\n",
    "                if obj or not W[i]:\n",
    "                    W[i][k] = obj\n",
    "                else:\n",
    "                    R.append((i, k))\n",
    "            else:\n",
    "                print(f'Infeasibility in item {i} and type bin {k}!')\n",
    "    else:\n",
    "        k = Bi[i][0]\n",
    "\n",
    "        Bi[i] = [k]\n",
    "        W[i][k] = 0\n",
    "\n",
    "for i, k in R:\n",
    "    Bi[i].remove(k)\n",
    "\n",
    "for i in list(W.keys())[:5]:\n",
    "    for k in W[i].keys():\n",
    "        print(f'Item {i} and type bin {k} =', W[i][k])"
   ]
  },
  {
   "cell_type": "markdown",
   "id": "b8293cdf-d25a-4164-9836-9ebffe4b65e0",
   "metadata": {
    "jp-MarkdownHeadingCollapsed": true
   },
   "source": [
    "### LOWER BOUND"
   ]
  },
  {
   "cell_type": "markdown",
   "id": "92c8c923-115f-4bdf-bf6a-7ba76b2fc17f",
   "metadata": {},
   "source": [
    "Defining the integer linear programming model to the lower bound:"
   ]
  },
  {
   "cell_type": "code",
   "execution_count": 14,
   "id": "361d4d1e-0774-4259-a1e2-c0056b6705ff",
   "metadata": {},
   "outputs": [],
   "source": [
    "def lower_bound(instance, B, Bi, Vc, Vc_, Vi, BIN_SIZE, IPU, W, time_limit=60, heuristic=None):\n",
    "    n = instance.n\n",
    "    V = instance.v\n",
    "    G = instance.G\n",
    "\n",
    "    model = mip.Model(sense=mip.MINIMIZE)\n",
    "    model.verbose = 0\n",
    "\n",
    "    x  = {(i, k): model.add_var(var_type=mip.BINARY)\n",
    "          for i in Vc\n",
    "          for k in Bi[i]}\n",
    "    f  = {(j, i): model.add_var(lb=0)\n",
    "          for i in Vc\n",
    "          for j in Vi[i]}\n",
    "    f0 = {j: model.add_var(lb=0) for j in Vc_}\n",
    "    y  = {k: model.add_var(var_type=mip.INTEGER, lb=0) for k in B}\n",
    "\n",
    "    model.objective = (\n",
    "        mip.xsum(BIN_SIZE[k] * y[k] for k in B) +\n",
    "        mip.xsum(BIN_SIZE[k] * x[i, k] for i in Vc for k in Bi[i])\n",
    "    )\n",
    "\n",
    "    if heuristic:\n",
    "        model += model.objective <= heuristic\n",
    "\n",
    "    for i in Vc:\n",
    "        model += mip.xsum(f[j, i] for j in Vi[i]) <= \\\n",
    "                 mip.xsum(W[i][k] * x[i, k] for k in Bi[i])\n",
    "\n",
    "    for i in Vc:\n",
    "        model += mip.xsum(x[i, k] for k in Bi[i]) == 1\n",
    "\n",
    "    for j in Vc_:\n",
    "        model += f0[j] + mip.xsum(f[j, i] for i in Vc if not G[i][j]) == V[j]\n",
    "\n",
    "    model += mip.xsum(f0[j] for j in Vc_) <= mip.xsum(IPU[k] * y[k] for k in B)\n",
    "\n",
    "    status = model.optimize(max_seconds=time_limit)\n",
    "    obj    = model.objective_value\n",
    "\n",
    "    return status, int(obj), (x, f, f0, y)"
   ]
  },
  {
   "cell_type": "code",
   "execution_count": 15,
   "id": "0e4bee6e-70ed-4547-a922-b7f3c45e95ef",
   "metadata": {},
   "outputs": [
    {
     "name": "stdout",
     "output_type": "stream",
     "text": [
      "Objetive value = 7750\n"
     ]
    }
   ],
   "source": [
    "h = instance2heuristic[filename.lstrip('../')]\n",
    "\n",
    "\n",
    "status, obj, mvars = lower_bound(instance, B, Bi, Vc, Vc_, Vi,\n",
    "                                 BIN_SIZE, IPU, W, heuristic=h)\n",
    "\n",
    "print('Objetive value =', obj)"
   ]
  },
  {
   "cell_type": "markdown",
   "id": "c5066a9f-593a-43d4-947d-799a274f8be6",
   "metadata": {
    "jp-MarkdownHeadingCollapsed": true
   },
   "source": [
    "## APPLYING TO ALL INSTANCES WITH 100 ITEMS"
   ]
  },
  {
   "cell_type": "markdown",
   "id": "c651e061-9b19-479b-9ee5-ef50ddc8dcf3",
   "metadata": {},
   "source": [
    "Getting the paths to all instances:"
   ]
  },
  {
   "cell_type": "code",
   "execution_count": 16,
   "id": "fe57c2d9-e824-47cd-940f-76942cd6cc46",
   "metadata": {},
   "outputs": [
    {
     "name": "stdout",
     "output_type": "stream",
     "text": [
      "Number of instances = 360\n"
     ]
    }
   ],
   "source": [
    "filename1 = '../instances/train'\n",
    "filename2 = '../instances/test'\n",
    "\n",
    "\n",
    "files = [os.path.join(filename1, f) for f in os.listdir(filename1) if f.startswith('Correia_Random_1')] + \\\n",
    "        [os.path.join(filename2, f) for f in os.listdir(filename2) if f.startswith('Correia_Random_1')]\n",
    "\n",
    "print('Number of instances =', len(files))"
   ]
  },
  {
   "cell_type": "markdown",
   "id": "88280437-cd99-4170-a7de-c3d30602922c",
   "metadata": {},
   "source": [
    "Getting the lower bounds of all instances:"
   ]
  },
  {
   "cell_type": "code",
   "execution_count": 17,
   "id": "34a83e5d-611d-4ae1-8a87-f5446e2a84a4",
   "metadata": {},
   "outputs": [
    {
     "name": "stdout",
     "output_type": "stream",
     "text": [
      "1. Correia_Random_1_2_4_9 6070 - 6080 (0.16)\n",
      "2. Correia_Random_1_2_0_9 6060 - 6070 (0.17)\n",
      "3. Correia_Random_1_1_5_9 4840 - 4850 (0.21)\n",
      "4. Correia_Random_1_1_6_8 5290 - 5320 (0.57)\n",
      "5. Correia_Random_1_3_4_6 7820 - 7950 (1.66)\n",
      "6. Correia_Random_1_2_5_7 6060 - 6090 (0.50)\n",
      "7. Correia_Random_1_3_4_8 7510 - 7590 (1.07)\n",
      "8. Correia_Random_1_1_3_3 4900 - 4910 (0.20)\n",
      "9. Correia_Random_1_2_1_4 6240 - 6250 (0.16)\n",
      "10. Correia_Random_1_3_2_6 7800 - 7950 (1.92)\n",
      "11. Correia_Random_1_3_5_3 7760 - 7860 (1.29)\n",
      "12. Correia_Random_1_2_5_2 6020 - 6050 (0.50)\n",
      "13. Correia_Random_1_3_0_3 7740 - 7850 (1.42)\n",
      "14. Correia_Random_1_2_5_1 5900 - 5930 (0.51)\n",
      "15. Correia_Random_1_1_9_2 5780 - 5960 (3.11)\n",
      "16. Correia_Random_1_3_1_1 7460 - 7530 (0.94)\n",
      "17. Correia_Random_1_3_8_5 7320 - 7450 (1.78)\n",
      "18. Correia_Random_1_1_6_2 5610 - 5660 (0.89)\n",
      "19. Correia_Random_1_3_3_9 7440 - 7550 (1.48)\n",
      "20. Correia_Random_1_1_0_4 4610 - 4610 (0.00)\n",
      "21. Correia_Random_1_2_4_8 5600 - 5620 (0.36)\n",
      "22. Correia_Random_1_2_0_10 5300 - 5300 (0.00)\n",
      "23. Correia_Random_1_3_1_5 7240 - 7350 (1.52)\n",
      "24. Correia_Random_1_2_8_4 6280 - 6350 (1.11)\n",
      "25. Correia_Random_1_1_2_10 4980 - 4990 (0.20)\n",
      "26. Correia_Random_1_3_4_4 7650 - 7800 (1.96)\n",
      "27. Correia_Random_1_3_10_7 8120 - 8200 (0.99)\n",
      "28. Correia_Random_1_2_8_6 6120 - 6200 (1.31)\n",
      "29. Correia_Random_1_2_2_2 6020 - 6030 (0.17)\n",
      "30. Correia_Random_1_2_2_3 6290 - 6310 (0.32)\n",
      "31. Correia_Random_1_3_6_9 7490 - 7600 (1.47)\n",
      "32. Correia_Random_1_3_11_2 9210 - 9210 (0.00)\n",
      "33. Correia_Random_1_2_5_6 6070 - 6090 (0.33)\n",
      "34. Correia_Random_1_1_1_2 5610 - 5610 (0.00)\n",
      "35. Correia_Random_1_1_8_8 5310 - 5380 (1.32)\n",
      "36. Correia_Random_1_2_11_1 8290 - 8290 (0.00)\n",
      "37. Correia_Random_1_1_6_3 4900 - 4930 (0.61)\n",
      "38. Correia_Random_1_3_6_7 7600 - 7650 (0.66)\n",
      "39. Correia_Random_1_1_3_4 4610 - 4610 (0.00)\n",
      "40. Correia_Random_1_3_8_4 7770 - 7900 (1.67)\n",
      "41. Correia_Random_1_2_4_4 6240 - 6250 (0.16)\n",
      "42. Correia_Random_1_2_11_8 7660 - 7680 (0.26)\n",
      "43. Correia_Random_1_3_2_7 7590 - 7650 (0.79)\n",
      "44. Correia_Random_1_1_5_7 4920 - 4930 (0.20)\n",
      "45. Correia_Random_1_1_0_3 4900 - 4900 (0.00)\n",
      "46. Correia_Random_1_1_8_1 5170 - 5280 (2.13)\n",
      "47. Correia_Random_1_1_9_9 4940 - 5180 (4.86)\n",
      "48. Correia_Random_1_1_8_3 4930 - 5030 (2.03)\n",
      "49. Correia_Random_1_2_5_9 6070 - 6090 (0.33)\n",
      "50. Correia_Random_1_2_8_9 6100 - 6190 (1.48)\n",
      "51. Correia_Random_1_3_2_1 7460 - 7560 (1.34)\n",
      "52. Correia_Random_1_3_6_5 7260 - 7350 (1.24)\n",
      "53. Correia_Random_1_1_2_2 5610 - 5620 (0.18)\n",
      "54. Correia_Random_1_3_5_9 7450 - 7550 (1.34)\n",
      "55. Correia_Random_1_2_3_7 6060 - 6080 (0.33)\n",
      "56. Correia_Random_1_3_6_4 7750 - 7900 (1.94)\n",
      "57. Correia_Random_1_1_10_9 5440 - 5860 (7.72)\n",
      "58. Correia_Random_1_1_9_1 5280 - 5490 (3.98)\n",
      "59. Correia_Random_1_2_11_9 8440 - 8470 (0.36)\n",
      "60. Correia_Random_1_3_0_2 7620 - 7750 (1.71)\n",
      "61. Correia_Random_1_1_10_6 5360 - 5690 (6.16)\n",
      "62. Correia_Random_1_2_7_9 6080 - 6130 (0.82)\n",
      "63. Correia_Random_1_3_5_8 7520 - 7590 (0.93)\n",
      "64. Correia_Random_1_3_0_4 7650 - 7800 (1.96)\n",
      "65. Correia_Random_1_3_5_5 7250 - 7350 (1.38)\n",
      "66. Correia_Random_1_3_3_2 7620 - 7750 (1.71)\n",
      "67. Correia_Random_1_3_7_3 7790 - 7860 (0.90)\n",
      "68. Correia_Random_1_2_5_10 5300 - 5310 (0.19)\n",
      "69. Correia_Random_1_2_7_8 5620 - 5670 (0.89)\n",
      "70. Correia_Random_1_2_3_9 6070 - 6070 (0.00)\n",
      "71. Correia_Random_1_2_6_8 5610 - 5650 (0.71)\n",
      "72. Correia_Random_1_1_2_7 4920 - 4920 (0.00)\n",
      "73. Correia_Random_1_1_0_6 4910 - 4910 (0.00)\n",
      "74. Correia_Random_1_2_7_3 6310 - 6370 (0.95)\n",
      "75. Correia_Random_1_1_3_2 5610 - 5620 (0.18)\n",
      "76. Correia_Random_1_3_8_7 7640 - 7710 (0.92)\n",
      "77. Correia_Random_1_3_3_3 7750 - 7830 (1.03)\n",
      "78. Correia_Random_1_2_11_10 7870 - 7870 (0.00)\n",
      "79. Correia_Random_1_3_5_4 7700 - 7800 (1.30)\n",
      "80. Correia_Random_1_2_10_6 6390 - 6560 (2.66)\n",
      "81. Correia_Random_1_1_0_9 4840 - 4840 (0.00)\n",
      "82. Correia_Random_1_2_3_4 6240 - 6260 (0.32)\n",
      "83. Correia_Random_1_2_1_2 6020 - 6030 (0.17)\n",
      "84. Correia_Random_1_2_9_5 6070 - 6200 (2.14)\n",
      "85. Correia_Random_1_1_11_6 7640 - 7640 (0.00)\n",
      "86. Correia_Random_1_2_7_1 5910 - 5980 (1.18)\n",
      "87. Correia_Random_1_3_9_5 7500 - 7690 (2.53)\n",
      "88. Correia_Random_1_1_11_10 7990 - 8010 (0.25)\n",
      "89. Correia_Random_1_3_10_1 8060 - 8120 (0.74)\n",
      "90. Correia_Random_1_2_2_7 6060 - 6070 (0.17)\n",
      "91. Correia_Random_1_3_11_4 9290 - 9290 (0.00)\n",
      "92. Correia_Random_1_2_10_1 6200 - 6340 (2.26)\n",
      "93. Correia_Random_1_2_9_10 5380 - 5550 (3.16)\n",
      "94. Correia_Random_1_3_11_10 8890 - 8890 (0.00)\n",
      "95. Correia_Random_1_1_7_3 4910 - 4960 (1.02)\n",
      "96. Correia_Random_1_2_1_9 6060 - 6070 (0.17)\n",
      "97. Correia_Random_1_1_5_1 5140 - 5150 (0.19)\n",
      "98. Correia_Random_1_3_7_9 7500 - 7650 (2.00)\n",
      "99. Correia_Random_1_2_4_7 6060 - 6080 (0.33)\n",
      "100. Correia_Random_1_2_0_6 6070 - 6070 (0.00)\n",
      "101. Correia_Random_1_3_1_7 7590 - 7650 (0.79)\n",
      "102. Correia_Random_1_2_7_2 6030 - 6090 (1.00)\n",
      "103. Correia_Random_1_1_8_10 5000 - 5120 (2.40)\n",
      "104. Correia_Random_1_1_5_6 4910 - 4930 (0.41)\n",
      "105. Correia_Random_1_3_4_1 7470 - 7560 (1.20)\n",
      "106. Correia_Random_1_3_11_9 9080 - 9080 (0.00)\n",
      "107. Correia_Random_1_2_7_10 5310 - 5350 (0.75)\n",
      "108. Correia_Random_1_2_9_7 6150 - 6320 (2.76)\n",
      "109. Correia_Random_1_1_1_6 4910 - 4910 (0.00)\n",
      "110. Correia_Random_1_3_1_4 7650 - 7800 (1.96)\n",
      "111. Correia_Random_1_2_7_5 6010 - 6060 (0.83)\n",
      "112. Correia_Random_1_1_11_1 7800 - 7800 (0.00)\n",
      "113. Correia_Random_1_1_3_1 5140 - 5150 (0.19)\n",
      "114. Correia_Random_1_1_0_5 4730 - 4730 (0.00)\n",
      "115. Correia_Random_1_3_9_3 8060 - 8120 (0.74)\n",
      "116. Correia_Random_1_2_11_5 8550 - 8550 (0.00)\n",
      "117. Correia_Random_1_2_0_5 5990 - 5990 (0.00)\n",
      "118. Correia_Random_1_1_10_10 5620 - 5950 (5.87)\n",
      "119. Correia_Random_1_1_6_5 4730 - 4760 (0.63)\n",
      "120. Correia_Random_1_1_4_1 5140 - 5150 (0.19)\n",
      "121. Correia_Random_1_2_8_1 5930 - 6040 (1.85)\n",
      "122. Correia_Random_1_2_4_10 5300 - 5310 (0.19)\n",
      "123. Correia_Random_1_2_0_7 6060 - 6070 (0.17)\n",
      "124. Correia_Random_1_3_6_8 7540 - 7590 (0.66)\n",
      "125. Correia_Random_1_1_3_6 4910 - 4910 (0.00)\n",
      "126. Correia_Random_1_1_4_4 4610 - 4610 (0.00)\n",
      "127. Correia_Random_1_3_8_2 7720 - 7820 (1.30)\n",
      "128. Correia_Random_1_3_7_7 7670 - 7750 (1.04)\n",
      "129. Correia_Random_1_3_9_9 7610 - 7760 (1.97)\n",
      "130. Correia_Random_1_1_11_3 7330 - 7480 (2.05)\n",
      "131. Correia_Random_1_3_5_1 7480 - 7540 (0.80)\n",
      "132. Correia_Random_1_1_1_3 4900 - 4900 (0.00)\n",
      "133. Correia_Random_1_2_10_7 6400 - 6560 (2.50)\n",
      "134. Correia_Random_1_3_2_5 7250 - 7350 (1.38)\n",
      "135. Correia_Random_1_3_4_7 7600 - 7670 (0.92)\n",
      "136. Correia_Random_1_2_9_8 5700 - 5860 (2.81)\n",
      "137. Correia_Random_1_3_1_2 7620 - 7750 (1.71)\n",
      "138. Correia_Random_1_1_1_7 4920 - 4920 (0.00)\n",
      "139. Correia_Random_1_2_2_4 6240 - 6250 (0.16)\n",
      "140. Correia_Random_1_3_6_10 7410 - 7460 (0.67)\n",
      "141. Correia_Random_1_3_0_9 7420 - 7550 (1.75)\n",
      "142. Correia_Random_1_2_10_5 6280 - 6470 (3.03)\n",
      "143. Correia_Random_1_1_2_1 5140 - 5140 (0.00)\n",
      "144. Correia_Random_1_1_7_5 4730 - 4770 (0.85)\n",
      "145. Correia_Random_1_2_6_3 6300 - 6340 (0.63)\n",
      "146. Correia_Random_1_3_8_6 7950 - 8100 (1.89)\n",
      "147. Correia_Random_1_2_7_6 6080 - 6130 (0.82)\n",
      "148. Correia_Random_1_1_6_9 4840 - 4860 (0.41)\n",
      "149. Correia_Random_1_1_4_6 4910 - 4920 (0.20)\n",
      "150. Correia_Random_1_3_9_6 8050 - 8200 (1.86)\n",
      "151. Correia_Random_1_3_9_4 7920 - 8020 (1.26)\n",
      "152. Correia_Random_1_3_10_10 7880 - 7970 (1.14)\n",
      "153. Correia_Random_1_2_6_4 6240 - 6290 (0.80)\n",
      "154. Correia_Random_1_1_10_2 6100 - 6300 (3.28)\n",
      "155. Correia_Random_1_3_2_2 7620 - 7750 (1.71)\n",
      "156. Correia_Random_1_1_10_5 5270 - 5630 (6.83)\n",
      "157. Correia_Random_1_1_10_1 5570 - 5900 (5.92)\n",
      "158. Correia_Random_1_1_9_6 5040 - 5190 (2.98)\n",
      "159. Correia_Random_1_1_5_8 5290 - 5310 (0.38)\n",
      "160. Correia_Random_1_3_4_5 7250 - 7370 (1.66)\n",
      "161. Correia_Random_1_3_7_1 7500 - 7560 (0.80)\n",
      "162. Correia_Random_1_2_0_8 5600 - 5610 (0.18)\n",
      "163. Correia_Random_1_1_4_8 5290 - 5300 (0.19)\n",
      "164. Correia_Random_1_1_1_4 4610 - 4610 (0.00)\n",
      "165. Correia_Random_1_1_0_1 5140 - 5140 (0.00)\n",
      "166. Correia_Random_1_1_9_8 5470 - 5660 (3.47)\n",
      "167. Correia_Random_1_3_8_9 7490 - 7620 (1.74)\n",
      "168. Correia_Random_1_2_6_9 6070 - 6100 (0.49)\n",
      "169. Correia_Random_1_2_1_8 5600 - 5610 (0.18)\n",
      "170. Correia_Random_1_3_4_2 7620 - 7750 (1.71)\n",
      "171. Correia_Random_1_3_8_3 7860 - 7980 (1.53)\n",
      "172. Correia_Random_1_2_9_1 6000 - 6200 (3.33)\n",
      "173. Correia_Random_1_3_0_5 7240 - 7350 (1.52)\n",
      "174. Correia_Random_1_3_3_10 7390 - 7450 (0.81)\n",
      "175. Correia_Random_1_3_8_10 7460 - 7520 (0.80)\n",
      "176. Correia_Random_1_3_3_6 7800 - 7950 (1.92)\n",
      "177. Correia_Random_1_2_1_3 6290 - 6310 (0.32)\n",
      "178. Correia_Random_1_3_5_2 7640 - 7750 (1.44)\n",
      "179. Correia_Random_1_3_10_5 7810 - 7890 (1.02)\n",
      "180. Correia_Random_1_2_0_1 5900 - 5910 (0.17)\n",
      "181. Correia_Random_1_2_10_8 5950 - 6140 (3.19)\n",
      "182. Correia_Random_1_3_0_10 7390 - 7490 (1.35)\n",
      "183. Correia_Random_1_1_4_3 4900 - 4910 (0.20)\n",
      "184. Correia_Random_1_2_10_10 5640 - 5860 (3.90)\n",
      "185. Correia_Random_1_3_1_6 7800 - 7950 (1.92)\n",
      "186. Correia_Random_1_2_2_10 5300 - 5310 (0.19)\n",
      "187. Correia_Random_1_1_4_7 4920 - 4920 (0.00)\n",
      "188. Correia_Random_1_3_0_1 7460 - 7540 (1.07)\n",
      "189. Correia_Random_1_1_7_10 4990 - 5020 (0.60)\n",
      "190. Correia_Random_1_2_3_2 6020 - 6030 (0.17)\n",
      "191. Correia_Random_1_2_5_8 5610 - 5620 (0.18)\n",
      "192. Correia_Random_1_3_6_1 7520 - 7600 (1.06)\n",
      "193. Correia_Random_1_2_2_8 5600 - 5610 (0.18)\n",
      "194. Correia_Random_1_1_7_6 4910 - 4960 (1.02)\n",
      "195. Correia_Random_1_1_11_8 7810 - 7810 (0.00)\n",
      "196. Correia_Random_1_1_9_5 4820 - 5130 (6.43)\n",
      "197. Correia_Random_1_3_5_10 7410 - 7460 (0.67)\n",
      "198. Correia_Random_1_3_11_6 9240 - 9240 (0.00)\n",
      "199. Correia_Random_1_3_10_4 8290 - 8380 (1.09)\n",
      "200. Correia_Random_1_2_3_3 6290 - 6320 (0.48)\n",
      "201. Correia_Random_1_3_1_3 7740 - 7830 (1.16)\n",
      "202. Correia_Random_1_2_8_8 5630 - 5710 (1.42)\n",
      "203. Correia_Random_1_1_10_3 5550 - 5780 (4.14)\n",
      "204. Correia_Random_1_1_5_4 4610 - 4620 (0.22)\n",
      "205. Correia_Random_1_1_8_9 4870 - 4960 (1.85)\n",
      "206. Correia_Random_1_2_6_5 5990 - 6020 (0.50)\n",
      "207. Correia_Random_1_1_11_5 8400 - 8400 (0.00)\n",
      "208. Correia_Random_1_1_3_7 4920 - 4920 (0.00)\n",
      "209. Correia_Random_1_3_7_2 7670 - 7770 (1.30)\n",
      "210. Correia_Random_1_3_2_10 7390 - 7450 (0.81)\n",
      "211. Correia_Random_1_2_11_4 8280 - 8300 (0.24)\n",
      "212. Correia_Random_1_1_1_5 4730 - 4730 (0.00)\n",
      "213. Correia_Random_1_1_5_3 4900 - 4910 (0.20)\n",
      "214. Correia_Random_1_2_11_2 7880 - 7880 (0.00)\n",
      "215. Correia_Random_1_3_7_10 7420 - 7480 (0.81)\n",
      "216. Correia_Random_1_1_5_2 5610 - 5630 (0.36)\n",
      "217. Correia_Random_1_2_9_6 6180 - 6360 (2.91)\n",
      "218. Correia_Random_1_2_11_6 8130 - 8130 (0.00)\n",
      "219. Correia_Random_1_1_8_4 4620 - 4710 (1.95)\n",
      "220. Correia_Random_1_1_7_2 5610 - 5680 (1.25)\n",
      "221. Correia_Random_1_1_9_10 5090 - 5340 (4.91)\n",
      "222. Correia_Random_1_2_9_4 6360 - 6520 (2.52)\n",
      "223. Correia_Random_1_2_6_2 6030 - 6060 (0.50)\n",
      "224. Correia_Random_1_1_7_8 5300 - 5360 (1.13)\n",
      "225. Correia_Random_1_1_1_1 5140 - 5140 (0.00)\n",
      "226. Correia_Random_1_3_10_6 8240 - 8320 (0.97)\n",
      "227. Correia_Random_1_1_11_9 7500 - 7500 (0.00)\n",
      "228. Correia_Random_1_3_11_3 9190 - 9190 (0.00)\n",
      "229. Correia_Random_1_3_6_6 7850 - 8000 (1.91)\n",
      "230. Correia_Random_1_2_8_2 6060 - 6150 (1.49)\n",
      "231. Correia_Random_1_3_9_2 7910 - 8000 (1.14)\n",
      "232. Correia_Random_1_1_8_2 5650 - 5750 (1.77)\n",
      "233. Correia_Random_1_1_2_3 4900 - 4900 (0.00)\n",
      "234. Correia_Random_1_3_1_8 7500 - 7590 (1.20)\n",
      "235. Correia_Random_1_3_4_10 7390 - 7450 (0.81)\n",
      "236. Correia_Random_1_2_2_5 5990 - 5990 (0.00)\n",
      "237. Correia_Random_1_1_0_2 5610 - 5610 (0.00)\n",
      "238. Correia_Random_1_3_7_8 7540 - 7610 (0.93)\n",
      "239. Correia_Random_1_2_1_7 6060 - 6070 (0.17)\n",
      "240. Correia_Random_1_1_6_4 4610 - 4630 (0.43)\n",
      "241. Correia_Random_1_2_1_1 5900 - 5910 (0.17)\n",
      "242. Correia_Random_1_1_9_4 4760 - 5000 (5.04)\n",
      "243. Correia_Random_1_1_2_9 4840 - 4840 (0.00)\n",
      "244. Correia_Random_1_3_3_7 7600 - 7650 (0.66)\n",
      "245. Correia_Random_1_1_6_1 5140 - 5160 (0.39)\n",
      "246. Correia_Random_1_2_0_2 6020 - 6020 (0.00)\n",
      "247. Correia_Random_1_2_8_3 6350 - 6440 (1.42)\n",
      "248. Correia_Random_1_3_2_4 7650 - 7800 (1.96)\n",
      "249. Correia_Random_1_2_9_2 6160 - 6290 (2.11)\n",
      "250. Correia_Random_1_1_7_7 4920 - 4970 (1.02)\n",
      "251. Correia_Random_1_1_4_2 5610 - 5620 (0.18)\n",
      "252. Correia_Random_1_2_3_8 5600 - 5610 (0.18)\n",
      "253. Correia_Random_1_2_3_10 5300 - 5310 (0.19)\n",
      "254. Correia_Random_1_1_2_6 4910 - 4910 (0.00)\n",
      "255. Correia_Random_1_2_10_3 6700 - 6890 (2.84)\n",
      "256. Correia_Random_1_1_10_8 5640 - 5880 (4.26)\n",
      "257. Correia_Random_1_1_7_4 4610 - 4660 (1.08)\n",
      "258. Correia_Random_1_1_6_10 4980 - 5010 (0.60)\n",
      "259. Correia_Random_1_1_4_9 4840 - 4840 (0.00)\n",
      "260. Correia_Random_1_3_9_7 7800 - 7900 (1.28)\n",
      "261. Correia_Random_1_3_10_2 8160 - 8220 (0.74)\n",
      "262. Correia_Random_1_2_6_7 6060 - 6110 (0.83)\n",
      "263. Correia_Random_1_1_11_4 7670 - 7670 (0.00)\n",
      "264. Correia_Random_1_2_10_9 6450 - 6610 (2.48)\n",
      "265. Correia_Random_1_3_2_9 7440 - 7550 (1.48)\n",
      "266. Correia_Random_1_3_3_4 7650 - 7800 (1.96)\n",
      "267. Correia_Random_1_1_8_7 4930 - 5040 (2.23)\n",
      "268. Correia_Random_1_2_2_9 6060 - 6070 (0.17)\n",
      "269. Correia_Random_1_1_3_5 4730 - 4730 (0.00)\n",
      "270. Correia_Random_1_3_11_1 9350 - 9350 (0.00)\n",
      "271. Correia_Random_1_3_3_8 7500 - 7590 (1.20)\n",
      "272. Correia_Random_1_2_4_6 6070 - 6080 (0.16)\n",
      "273. Correia_Random_1_1_0_8 5290 - 5290 (0.00)\n",
      "274. Correia_Random_1_1_3_9 4840 - 4840 (0.00)\n",
      "275. Correia_Random_1_2_8_10 5330 - 5440 (2.06)\n",
      "276. Correia_Random_1_2_5_3 6290 - 6330 (0.64)\n",
      "277. Correia_Random_1_3_7_5 7300 - 7380 (1.10)\n",
      "278. Correia_Random_1_2_3_6 6070 - 6080 (0.16)\n",
      "279. Correia_Random_1_1_1_9 4840 - 4840 (0.00)\n",
      "280. Correia_Random_1_1_2_8 5290 - 5290 (0.00)\n",
      "281. Correia_Random_1_3_10_8 8120 - 8180 (0.74)\n",
      "282. Correia_Random_1_3_0_6 7800 - 7950 (1.92)\n",
      "283. Correia_Random_1_2_1_6 6070 - 6070 (0.00)\n",
      "284. Correia_Random_1_2_6_6 6080 - 6090 (0.16)\n",
      "285. Correia_Random_1_3_9_1 7650 - 7770 (1.57)\n",
      "286. Correia_Random_1_2_4_1 5900 - 5920 (0.34)\n",
      "287. Correia_Random_1_3_11_8 8700 - 8700 (0.00)\n",
      "288. Correia_Random_1_2_4_3 6290 - 6320 (0.48)\n",
      "289. Correia_Random_1_2_0_3 6290 - 6310 (0.32)\n",
      "290. Correia_Random_1_1_9_7 5030 - 5290 (5.17)\n",
      "291. Correia_Random_1_1_6_7 4920 - 4940 (0.41)\n",
      "292. Correia_Random_1_3_7_4 7750 - 7900 (1.94)\n",
      "293. Correia_Random_1_1_2_4 4610 - 4610 (0.00)\n",
      "294. Correia_Random_1_2_10_4 6580 - 6740 (2.43)\n",
      "295. Correia_Random_1_2_10_2 6420 - 6600 (2.80)\n",
      "296. Correia_Random_1_3_8_8 7580 - 7660 (1.06)\n",
      "297. Correia_Random_1_3_10_3 8240 - 8310 (0.85)\n",
      "298. Correia_Random_1_2_6_10 5300 - 5320 (0.38)\n",
      "299. Correia_Random_1_3_6_2 7650 - 7750 (1.31)\n",
      "300. Correia_Random_1_3_7_6 7950 - 8050 (1.26)\n",
      "301. Correia_Random_1_2_3_5 5990 - 5990 (0.00)\n",
      "302. Correia_Random_1_1_1_10 4980 - 4980 (0.00)\n",
      "303. Correia_Random_1_3_8_1 7540 - 7660 (1.59)\n",
      "304. Correia_Random_1_2_9_3 6390 - 6530 (2.19)\n",
      "305. Correia_Random_1_2_0_4 6240 - 6250 (0.16)\n",
      "306. Correia_Random_1_2_1_10 5300 - 5300 (0.00)\n",
      "307. Correia_Random_1_3_10_9 7920 - 8070 (1.89)\n",
      "308. Correia_Random_1_2_2_6 6070 - 6080 (0.16)\n",
      "309. Correia_Random_1_1_11_7 8020 - 8020 (0.00)\n",
      "310. Correia_Random_1_3_6_3 7800 - 7870 (0.90)\n",
      "311. Correia_Random_1_3_2_3 7740 - 7830 (1.16)\n",
      "312. Correia_Random_1_1_8_5 4750 - 4850 (2.11)\n",
      "313. Correia_Random_1_1_10_4 5320 - 5690 (6.95)\n",
      "314. Correia_Random_1_2_9_9 6170 - 6300 (2.11)\n",
      "315. Correia_Random_1_1_10_7 5340 - 5680 (6.37)\n",
      "316. Correia_Random_1_1_0_7 4920 - 4920 (0.00)\n",
      "317. Correia_Random_1_3_9_10 7520 - 7620 (1.33)\n",
      "318. Correia_Random_1_1_5_5 4730 - 4740 (0.21)\n",
      "319. Correia_Random_1_3_0_8 7500 - 7590 (1.20)\n",
      "320. Correia_Random_1_3_9_8 7720 - 7840 (1.55)\n",
      "321. Correia_Random_1_3_1_9 7420 - 7550 (1.75)\n",
      "322. Correia_Random_1_3_1_10 7390 - 7460 (0.95)\n",
      "323. Correia_Random_1_2_4_2 6020 - 6040 (0.33)\n",
      "324. Correia_Random_1_2_7_4 6250 - 6290 (0.64)\n",
      "325. Correia_Random_1_1_3_8 5290 - 5290 (0.00)\n",
      "326. Correia_Random_1_2_1_5 5990 - 5990 (0.00)\n",
      "327. Correia_Random_1_1_9_3 5030 - 5290 (5.17)\n",
      "328. Correia_Random_1_1_4_5 4730 - 4740 (0.21)\n",
      "329. Correia_Random_1_3_11_7 9190 - 9190 (0.00)\n",
      "330. Correia_Random_1_3_4_3 7750 - 7830 (1.03)\n",
      "331. Correia_Random_1_2_4_5 5990 - 6000 (0.17)\n",
      "332. Correia_Random_1_2_7_7 6070 - 6150 (1.32)\n",
      "333. Correia_Random_1_1_2_5 4730 - 4730 (0.00)\n",
      "334. Correia_Random_1_2_8_5 6030 - 6110 (1.33)\n",
      "335. Correia_Random_1_2_2_1 5900 - 5920 (0.34)\n",
      "336. Correia_Random_1_1_7_9 4840 - 4870 (0.62)\n",
      "337. Correia_Random_1_1_1_8 5290 - 5290 (0.00)\n",
      "338. Correia_Random_1_1_3_10 4980 - 4990 (0.20)\n",
      "339. Correia_Random_1_3_4_9 7450 - 7550 (1.34)\n",
      "340. Correia_Random_1_2_6_1 5910 - 5950 (0.68)\n",
      "341. Correia_Random_1_3_5_6 7850 - 7950 (1.27)\n",
      "342. Correia_Random_1_3_11_5 8970 - 8970 (0.00)\n",
      "343. Correia_Random_1_2_11_7 7910 - 7910 (0.00)\n",
      "344. Correia_Random_1_2_8_7 6100 - 6170 (1.15)\n",
      "345. Correia_Random_1_3_3_5 7240 - 7350 (1.52)\n",
      "346. Correia_Random_1_1_0_10 4980 - 4980 (0.00)\n",
      "347. Correia_Random_1_2_5_5 5990 - 6010 (0.33)\n",
      "348. Correia_Random_1_3_0_7 7590 - 7650 (0.79)\n",
      "349. Correia_Random_1_1_8_6 4920 - 5020 (2.03)\n",
      "350. Correia_Random_1_2_3_1 5900 - 5920 (0.34)\n",
      "351. Correia_Random_1_3_3_1 7470 - 7530 (0.80)\n",
      "352. Correia_Random_1_2_5_4 6240 - 6270 (0.48)\n",
      "353. Correia_Random_1_3_5_7 7600 - 7670 (0.92)\n",
      "354. Correia_Random_1_1_6_6 4910 - 4940 (0.61)\n",
      "355. Correia_Random_1_1_7_1 5140 - 5180 (0.78)\n",
      "356. Correia_Random_1_1_5_10 4980 - 5000 (0.40)\n",
      "357. Correia_Random_1_3_2_8 7500 - 7590 (1.20)\n",
      "358. Correia_Random_1_2_11_3 8710 - 8710 (0.00)\n",
      "359. Correia_Random_1_1_11_2 8140 - 8200 (0.74)\n",
      "360. Correia_Random_1_1_4_10 4980 - 4990 (0.20)\n"
     ]
    }
   ],
   "source": [
    "out = open('../out/lower_bounds_01.txt', 'a')\n",
    "\n",
    "for idx, filename in enumerate(files):\n",
    "    print(f\"{idx + 1}. {filename.split('/')[-1].split('.')[0]}\", end=' ')\n",
    "\n",
    "    instance = Instance(filename)\n",
    "\n",
    "    clique = johnson_maximal_clique(instance)\n",
    "    n, V, G, B, Bi, Vc, Vc_, Vi = get_params(instance, clique, BIN_SIZE)\n",
    "\n",
    "    # Calculating the effective space for each bin type\n",
    "    IPU = [0 for _ in B]\n",
    "    for k in B:\n",
    "        status, obj = ip_uk(instance, Vc_, BIN_SIZE[k])\n",
    "\n",
    "        if status == mip.OptimizationStatus.OPTIMAL:\n",
    "            IPU[k] = obj\n",
    "        else:\n",
    "            print(f'Inviabilidade no bin de tipo {k}!')\n",
    "\n",
    "    # Calculating the effective space for each pair of item in the clique and bin type\n",
    "    R = []\n",
    "    W = defaultdict(dict)\n",
    "\n",
    "    for i in Vc:\n",
    "        vi = Vi[i]\n",
    "\n",
    "        if vi:\n",
    "            for k in Bi[i]:\n",
    "                status, obj = ip_uik(instance, vi, i, BIN_SIZE[k])\n",
    "\n",
    "                if status == mip.OptimizationStatus.OPTIMAL:\n",
    "                    if obj or not W[i]:\n",
    "                        W[i][k] = obj\n",
    "                    else:\n",
    "                        R.append((i, k))\n",
    "                else:\n",
    "                    print(f'Infeasibility in item {i} and type bin {k}!')\n",
    "        else:\n",
    "            k = Bi[i][0]\n",
    "\n",
    "            Bi[i] = [k]\n",
    "            W[i][k] = 0\n",
    "\n",
    "    for i, k in R:\n",
    "        Bi[i].remove(k)\n",
    "\n",
    "    # Lower bound\n",
    "    filename = filename.lstrip('../')\n",
    "\n",
    "    h = instance2heuristic[filename]\n",
    "    status, obj, mvars = lower_bound(instance, B, Bi, Vc, Vc_, Vi,\n",
    "                                     BIN_SIZE, IPU, W, heuristic=h)\n",
    "\n",
    "    gap = (h - obj) / obj * 100\n",
    "\n",
    "    print(f'{obj} - {h} ({gap:.2f})')\n",
    "    out.write(f'{filename} {obj}\\n')\n",
    "\n",
    "out.close()"
   ]
  }
 ],
 "metadata": {
  "kernelspec": {
   "display_name": "Python 3 (ipykernel)",
   "language": "python",
   "name": "python3"
  },
  "language_info": {
   "codemirror_mode": {
    "name": "ipython",
    "version": 3
   },
   "file_extension": ".py",
   "mimetype": "text/x-python",
   "name": "python",
   "nbconvert_exporter": "python",
   "pygments_lexer": "ipython3",
   "version": "3.10.12"
  }
 },
 "nbformat": 4,
 "nbformat_minor": 5
}
